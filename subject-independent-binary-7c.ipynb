{
 "cells": [
  {
   "cell_type": "code",
   "execution_count": 1,
   "metadata": {
    "collapsed": true,
    "pycharm": {
     "is_executing": true
    }
   },
   "outputs": [],
   "source": [
    "from datetime import datetime"
   ]
  },
  {
   "cell_type": "markdown",
   "metadata": {
    "collapsed": false
   },
   "source": [
    "#### TimesNet"
   ]
  },
  {
   "cell_type": "code",
   "execution_count": 9,
   "metadata": {
    "collapsed": false
   },
   "outputs": [
    {
     "name": "stdout",
     "output_type": "stream",
     "text": [
      "Duration: 0:00:00\n"
     ]
    }
   ],
   "source": [
    "start_time = datetime.now()\n",
    "\n",
    "# ADFD Dataset\n",
    "!python -u run.py --task_name classification --is_training 1 --root_path ./dataset/ADFD/ --model_id ADFD-Indep-7C --model TimesNet --data ADFD7CIndep --e_layers 6 --batch_size 128 --d_model 128 --d_ff 256 --top_k 1 --des 'Exp' --itr 5 --learning_rate 0.0001 --train_epochs 100 --patience 10\n",
    "\n",
    "# CNBPM Dataset\n",
    "!python -u run.py --task_name classification --is_training 1 --root_path ./dataset/CNBPM/ --model_id CNBPM-Indep-7C --model TimesNet --data CNBPM7CIndep --e_layers 6 --batch_size 128 --d_model 128 --d_ff 256 --top_k 1 --des 'Exp' --itr 5 --learning_rate 0.0001 --train_epochs 100 --patience 10\n",
    "\n",
    "end_time = datetime.now()\n",
    "print(f'Duration: {end_time - start_time}')"
   ]
  },
  {
   "cell_type": "markdown",
   "metadata": {
    "collapsed": false
   },
   "source": [
    "#### Autoformer"
   ]
  },
  {
   "cell_type": "code",
   "execution_count": 10,
   "metadata": {
    "collapsed": false
   },
   "outputs": [],
   "source": [
    "start_time = datetime.now()\n",
    "\n",
    "# ADFD Dataset\n",
    "!python -u run.py --task_name classification --is_training 1 --root_path ./dataset/ADFD/ --model_id ADFD-Indep-7C --model Autoformer --data ADFD7CIndep --e_layers 6 --batch_size 128 --d_model 128 --d_ff 256 --des 'Exp' --itr 5 --learning_rate 0.0001 --train_epochs 100 --patience 10\n",
    "\n",
    "# CNBPM Dataset\n",
    "!python -u run.py --task_name classification --is_training 1 --root_path ./dataset/CNBPM/ --model_id CNBPM-Indep-7C --model Autoformer --data CNBPM7CIndep --e_layers 6 --batch_size 128 --d_model 128 --d_ff 256 --des 'Exp' --itr 5 --learning_rate 0.0001 --train_epochs 100 --patience 10\n",
    "\n",
    "end_time = datetime.now()\n",
    "print(f'Duration: {end_time - start_time}')"
   ]
  },
  {
   "cell_type": "markdown",
   "metadata": {
    "collapsed": false
   },
   "source": [
    "#### FEDformer"
   ]
  },
  {
   "cell_type": "code",
   "execution_count": null,
   "metadata": {
    "collapsed": false
   },
   "outputs": [],
   "source": [
    "start_time = datetime.now()\n",
    "\n",
    "# ADFD Dataset\n",
    "!python -u run.py --task_name classification --is_training 1 --root_path ./dataset/ADFD/ --model_id ADFD-Indep-7C --model FEDformer --data ADFD7CIndep --e_layers 6 --batch_size 128 --d_model 128 --d_ff 256 --des 'Exp' --itr 5 --learning_rate 0.0001 --train_epochs 100 --patience 10\n",
    "\n",
    "# CNBPM Dataset\n",
    "!python -u run.py --task_name classification --is_training 1 --root_path ./dataset/CNBPM/ --model_id CNBPM-Indep-7C --model FEDformer --data CNBPM7CIndep --e_layers 6 --batch_size 128 --d_model 128 --d_ff 256 --des 'Exp' --itr 5 --learning_rate 0.0001 --train_epochs 100 --patience 10\n",
    "\n",
    "end_time = datetime.now()\n",
    "print(f'Duration: {end_time - start_time}')"
   ]
  },
  {
   "cell_type": "markdown",
   "metadata": {
    "collapsed": false
   },
   "source": [
    "#### Informer"
   ]
  },
  {
   "cell_type": "code",
   "execution_count": null,
   "metadata": {
    "collapsed": false
   },
   "outputs": [],
   "source": [
    "start_time = datetime.now()\n",
    "\n",
    "# ADFD Dataset\n",
    "!python -u run.py --task_name classification --is_training 1 --root_path ./dataset/ADFD/ --model_id ADFD-Indep-7C --model Informer --data ADFD7CIndep --e_layers 6 --batch_size 128 --d_model 128 --d_ff 256 --des 'Exp' --itr 5 --learning_rate 0.0001 --train_epochs 100 --patience 10\n",
    "\n",
    "# CNBPM Dataset\n",
    "!python -u run.py --task_name classification --is_training 1 --root_path ./dataset/CNBPM/ --model_id CNBPM-Indep-7C --model Informer --data CNBPM7CIndep --e_layers 6 --batch_size 128 --d_model 128 --d_ff 256 --des 'Exp' --itr 5 --learning_rate 0.0001 --train_epochs 100 --patience 10\n",
    "\n",
    "end_time = datetime.now()\n",
    "print(f'Duration: {end_time - start_time}')"
   ]
  },
  {
   "cell_type": "markdown",
   "metadata": {
    "collapsed": false
   },
   "source": [
    "#### MICN"
   ]
  },
  {
   "cell_type": "code",
   "execution_count": null,
   "metadata": {
    "collapsed": false
   },
   "outputs": [],
   "source": [
    "start_time = datetime.now()\n",
    "\n",
    "# ADFD Dataset\n",
    "!python -u run.py --task_name classification --is_training 1 --root_path ./dataset/ADFD/ --model_id ADFD-Indep-7C --model MICN --data ADFD7CIndep --e_layers 6 --batch_size 128 --d_model 128 --d_ff 256 --des 'Exp' --itr 5 --learning_rate 0.0001 --train_epochs 100 --patience 10\n",
    "\n",
    "# CNBPM Dataset\n",
    "!python -u run.py --task_name classification --is_training 1 --root_path ./dataset/CNBPM/ --model_id CNBPM-Indep-7C --model MICN --data CNBPM7CIndep --e_layers 6 --batch_size 128 --d_model 128 --d_ff 256 --des 'Exp' --itr 5 --learning_rate 0.0001 --train_epochs 100 --patience 10\n",
    "\n",
    "end_time = datetime.now()\n",
    "print(f'Duration: {end_time - start_time}')"
   ]
  },
  {
   "cell_type": "markdown",
   "metadata": {
    "collapsed": false
   },
   "source": [
    "#### PatchTST"
   ]
  },
  {
   "cell_type": "code",
   "execution_count": null,
   "metadata": {
    "collapsed": false
   },
   "outputs": [],
   "source": [
    "start_time = datetime.now()\n",
    "\n",
    "# ADFD Dataset\n",
    "!python -u run.py --task_name classification --is_training 1 --root_path ./dataset/ADFD/ --model_id ADFD-Indep-7C --model PatchTST --data ADFD7CIndep --e_layers 6 --batch_size 128 --d_model 128 --d_ff 256 --des 'Exp' --itr 5 --learning_rate 0.0001 --train_epochs 100 --patience 10\n",
    "\n",
    "# CNBPM Dataset\n",
    "!python -u run.py --task_name classification --is_training 1 --root_path ./dataset/CNBPM/ --model_id CNBPM-Indep-7C --model PatchTST --data CNBPM7CIndep --e_layers 6 --batch_size 128 --d_model 128 --d_ff 256 --des 'Exp' --itr 5 --learning_rate 0.0001 --train_epochs 100 --patience 10\n",
    "\n",
    "end_time = datetime.now()\n",
    "print(f'Duration: {end_time - start_time}')"
   ]
  },
  {
   "cell_type": "markdown",
   "metadata": {
    "collapsed": false
   },
   "source": [
    "#### Pyraformer"
   ]
  },
  {
   "cell_type": "code",
   "execution_count": null,
   "metadata": {
    "collapsed": false,
    "pycharm": {
     "is_executing": true
    }
   },
   "outputs": [],
   "source": [
    "start_time = datetime.now()\n",
    "\n",
    "# ADFD Dataset\n",
    "!python -u run.py --task_name classification --is_training 1 --root_path ./dataset/ADFD/ --model_id ADFD-Indep-7C --model Pyraformer --data ADFD7CIndep --e_layers 6 --batch_size 128 --d_model 128 --d_ff 256 --des 'Exp' --itr 5 --learning_rate 0.0001 --train_epochs 100 --patience 10\n",
    "\n",
    "# CNBPM Dataset\n",
    "!python -u run.py --task_name classification --is_training 1 --root_path ./dataset/CNBPM/ --model_id CNBPM-Indep-7C --model Pyraformer --data CNBPM7CIndep --e_layers 6 --batch_size 128 --d_model 128 --d_ff 256 --des 'Exp' --itr 5 --learning_rate 0.0001 --train_epochs 100 --patience 10\n",
    "\n",
    "end_time = datetime.now()\n",
    "print(f'Duration: {end_time - start_time}')"
   ]
  },
  {
   "cell_type": "markdown",
   "metadata": {
    "collapsed": false
   },
   "source": [
    "#### Nonformer"
   ]
  },
  {
   "cell_type": "code",
   "execution_count": null,
   "metadata": {
    "collapsed": false,
    "pycharm": {
     "is_executing": true
    }
   },
   "outputs": [],
   "source": [
    "start_time = datetime.now()\n",
    "\n",
    "# ADFD Dataset\n",
    "!python -u run.py --task_name classification --is_training 1 --root_path ./dataset/ADFD/ --model_id ADFD-Indep-7C --model Nonformer --data ADFD7CIndep --e_layers 6 --batch_size 128 --d_model 128 --d_ff 256 --des 'Exp' --itr 5 --learning_rate 0.0001 --train_epochs 100 --patience 10\n",
    "\n",
    "# CNBPM Dataset\n",
    "!python -u run.py --task_name classification --is_training 1 --root_path ./dataset/CNBPM/ --model_id CNBPM-Indep-7C --model Nonformer --data CNBPM7CIndep --e_layers 6 --batch_size 128 --d_model 128 --d_ff 256 --des 'Exp' --itr 5 --learning_rate 0.0001 --train_epochs 100 --patience 10\n",
    "\n",
    "end_time = datetime.now()\n",
    "print(f'Duration: {end_time - start_time}')"
   ]
  },
  {
   "cell_type": "markdown",
   "metadata": {
    "collapsed": false
   },
   "source": [
    "#### Crossformer"
   ]
  },
  {
   "cell_type": "code",
   "execution_count": null,
   "metadata": {
    "collapsed": false,
    "pycharm": {
     "is_executing": true
    }
   },
   "outputs": [],
   "source": [
    "start_time = datetime.now()\n",
    "\n",
    "# ADFD Dataset\n",
    "!python -u run.py --task_name classification --is_training 1 --root_path ./dataset/ADFD/ --model_id ADFD-Indep-7C --model Crossformer --data ADFD7CIndep --e_layers 6 --batch_size 128 --d_model 128 --d_ff 256 --des 'Exp' --itr 5 --learning_rate 0.0001 --train_epochs 100 --patience 10\n",
    "\n",
    "# CNBPM Dataset\n",
    "!python -u run.py --task_name classification --is_training 1 --root_path ./dataset/CNBPM/ --model_id CNBPM-Indep-7C --model Crossformer --data CNBPM7CIndep --e_layers 6 --batch_size 128 --d_model 128 --d_ff 256 --des 'Exp' --itr 5 --learning_rate 0.0001 --train_epochs 100 --patience 10\n",
    "\n",
    "end_time = datetime.now()\n",
    "print(f'Duration: {end_time - start_time}')"
   ]
  },
  {
   "cell_type": "markdown",
   "metadata": {
    "collapsed": false
   },
   "source": [
    "#### iTransformer"
   ]
  },
  {
   "cell_type": "code",
   "execution_count": null,
   "metadata": {
    "collapsed": false,
    "pycharm": {
     "is_executing": true
    }
   },
   "outputs": [],
   "source": [
    "start_time = datetime.now()\n",
    "\n",
    "# ADFD Dataset\n",
    "!python -u run.py --task_name classification --is_training 1 --root_path ./dataset/ADFD/ --model_id ADFD-Indep-7C --model iTransformer --data ADFD7CIndep --e_layers 6 --batch_size 128 --d_model 128 --d_ff 256 --des 'Exp' --itr 5 --learning_rate 0.0001 --train_epochs 100 --patience 10\n",
    "\n",
    "# CNBPM Dataset\n",
    "!python -u run.py --task_name classification --is_training 1 --root_path ./dataset/CNBPM/ --model_id CNBPM-Indep-7C --model iTransformer --data CNBPM7CIndep --e_layers 6 --batch_size 128 --d_model 128 --d_ff 256 --des 'Exp' --itr 5 --learning_rate 0.0001 --train_epochs 100 --patience 10\n",
    "\n",
    "end_time = datetime.now()\n",
    "print(f'Duration: {end_time - start_time}')"
   ]
  },
  {
   "cell_type": "markdown",
   "metadata": {
    "collapsed": false
   },
   "source": [
    "#### Reformer"
   ]
  },
  {
   "cell_type": "code",
   "execution_count": null,
   "metadata": {
    "collapsed": false,
    "pycharm": {
     "is_executing": true
    }
   },
   "outputs": [],
   "source": [
    "start_time = datetime.now()\n",
    "\n",
    "# ADFD Dataset\n",
    "!python -u run.py --task_name classification --is_training 1 --root_path ./dataset/ADFD/ --model_id ADFD-Indep-7C --model Reformer --data ADFD7CIndep --e_layers 6 --batch_size 128 --d_model 128 --d_ff 256 --des 'Exp' --itr 5 --learning_rate 0.0001 --train_epochs 100 --patience 10\n",
    "\n",
    "# CNBPM Dataset\n",
    "!python -u run.py --task_name classification --is_training 1 --root_path ./dataset/CNBPM/ --model_id CNBPM-Indep-7C --model Reformer --data CNBPM7CIndep --e_layers 6 --batch_size 128 --d_model 128 --d_ff 256 --des 'Exp' --itr 5 --learning_rate 0.0001 --train_epochs 100 --patience 10\n",
    "\n",
    "end_time = datetime.now()\n",
    "print(f'Duration: {end_time - start_time}')"
   ]
  },
  {
   "cell_type": "markdown",
   "metadata": {
    "collapsed": false
   },
   "source": [
    "#### MTST"
   ]
  },
  {
   "cell_type": "code",
   "execution_count": null,
   "metadata": {
    "collapsed": false
   },
   "outputs": [],
   "source": [
    "start_time = datetime.now()\n",
    "\n",
    "# ADFD Dataset\n",
    "!python -u run.py --task_name classification --is_training 1 --root_path ./dataset/ADFD/ --model_id ADFD-Indep-7C --model MTST --data ADFD7CIndep --e_layers 6 --batch_size 128 --d_model 128 --d_ff 256 --patch_len_list 8,32,96 --des 'Exp' --itr 5 --learning_rate 0.0001 --train_epochs 100 --patience 10\n",
    "\n",
    "# CNBPM Dataset\n",
    "!python -u run.py --task_name classification --is_training 1 --root_path ./dataset/CNBPM/ --model_id CNBPM-Indep-7C --model MTST --data CNBPM7CIndep --e_layers 6 --batch_size 128 --d_model 128 --d_ff 256 --patch_len_list 8,32,96 --des 'Exp' --itr 5 --learning_rate 0.0001 --train_epochs 100 --patience 10\n",
    "\n",
    "end_time = datetime.now()\n",
    "print(f'Duration: {end_time - start_time}')"
   ]
  },
  {
   "cell_type": "markdown",
   "metadata": {
    "collapsed": false
   },
   "source": [
    "#### Transformer"
   ]
  },
  {
   "cell_type": "code",
   "execution_count": null,
   "metadata": {
    "collapsed": false,
    "pycharm": {
     "is_executing": true
    }
   },
   "outputs": [],
   "source": [
    "start_time = datetime.now()\n",
    "\n",
    "# ADFD Dataset\n",
    "!python -u run.py --task_name classification --is_training 1 --root_path ./dataset/ADFD/ --model_id ADFD-Indep-7C --model Transformer --data ADFD7CIndep --e_layers 6 --batch_size 128 --d_model 128 --d_ff 256 --des 'Exp' --itr 5 --learning_rate 0.0001 --train_epochs 100 --patience 10\n",
    "\n",
    "# CNBPM Dataset\n",
    "!python -u run.py --task_name classification --is_training 1 --root_path ./dataset/CNBPM/ --model_id CNBPM-Indep-7C --model Transformer --data CNBPM7CIndep --e_layers 6 --batch_size 128 --d_model 128 --d_ff 256 --des 'Exp' --itr 5 --learning_rate 0.0001 --train_epochs 100 --patience 10\n",
    "\n",
    "end_time = datetime.now()\n",
    "print(f'Duration: {end_time - start_time}')"
   ]
  },
  {
   "cell_type": "markdown",
   "metadata": {
    "collapsed": false
   },
   "source": [
    "#### TCN"
   ]
  },
  {
   "cell_type": "code",
   "execution_count": null,
   "metadata": {
    "collapsed": false,
    "pycharm": {
     "is_executing": true
    }
   },
   "outputs": [],
   "source": [
    "start_time = datetime.now()\n",
    "\n",
    "# ADFD Dataset\n",
    "!python -u run.py --task_name classification --is_training 1 --root_path ./dataset/ADFD/ --model_id ADFD-Indep-7C --model TCN --data ADFD7CIndep --e_layers 6 --batch_size 128 --d_model 128 --d_ff 256 --des 'Exp' --itr 5 --learning_rate 0.0001 --train_epochs 100 --patience 10\n",
    "\n",
    "# CNBPM Dataset\n",
    "!python -u run.py --task_name classification --is_training 1 --root_path ./dataset/CNBPM/ --model_id CNBPM-Indep-7C --model TCN --data CNBPM7CIndep --e_layers 6 --batch_size 128 --d_model 128 --d_ff 256 --des 'Exp' --itr 5 --learning_rate 0.0001 --train_epochs 100 --patience 10\n",
    "\n",
    "end_time = datetime.now()\n",
    "print(f'Duration: {end_time - start_time}')"
   ]
  },
  {
   "cell_type": "markdown",
   "metadata": {
    "collapsed": false
   },
   "source": [
    "#### EEGNet"
   ]
  },
  {
   "cell_type": "code",
   "execution_count": null,
   "metadata": {
    "collapsed": false,
    "pycharm": {
     "is_executing": true
    }
   },
   "outputs": [],
   "source": [
    "start_time = datetime.now()\n",
    "\n",
    "# ADFD Dataset\n",
    "!python -u run.py --task_name classification --is_training 1 --root_path ./dataset/ADFD/ --model_id ADFD-Indep-7C --model EEGNet --data ADFD7CIndep --e_layers 6 --batch_size 128 --d_model 128 --d_ff 256 --des 'Exp' --itr 5 --learning_rate 0.0001 --train_epochs 100 --patience 10\n",
    "\n",
    "# CNBPM Dataset\n",
    "!python -u run.py --task_name classification --is_training 1 --root_path ./dataset/CNBPM/ --model_id CNBPM-Indep-7C --model EEGNet --data CNBPM7CIndep --e_layers 6 --batch_size 128 --d_model 128 --d_ff 256 --des 'Exp' --itr 5 --learning_rate 0.0001 --train_epochs 100 --patience 10\n",
    "\n",
    "end_time = datetime.now()\n",
    "print(f'Duration: {end_time - start_time}')"
   ]
  },
  {
   "cell_type": "markdown",
   "metadata": {
    "collapsed": false
   },
   "source": [
    "#### StatisticalFeatures"
   ]
  },
  {
   "cell_type": "code",
   "execution_count": null,
   "metadata": {
    "collapsed": false,
    "pycharm": {
     "is_executing": true
    }
   },
   "outputs": [],
   "source": [
    "start_time = datetime.now()\n",
    "\n",
    "# ADFD Dataset\n",
    "!python -u run.py --task_name classification --is_training 1 --root_path ./dataset/ADFD/ --model_id ADFD-Indep-7C --model StatisticalFeatures --data ADFD7CIndep --e_layers 6 --batch_size 128 --d_model 128 --d_ff 256 --sampling_rate 256 --des 'Exp' --itr 5 --learning_rate 0.0001 --train_epochs 100 --patience 10\n",
    "\n",
    "# CNBPM Dataset\n",
    "!python -u run.py --task_name classification --is_training 1 --root_path ./dataset/CNBPM/ --model_id CNBPM-Indep-7C --model StatisticalFeatures --data CNBPM7CIndep --e_layers 6 --batch_size 128 --d_model 128 --d_ff 256 --sampling_rate 256 --des 'Exp' --itr 5 --learning_rate 0.0001 --train_epochs 100 --patience 10\n",
    "\n",
    "end_time = datetime.now()\n",
    "print(f'Duration: {end_time - start_time}')"
   ]
  },
  {
   "cell_type": "markdown",
   "metadata": {
    "collapsed": false
   },
   "source": [
    "#### SpectralFeatures"
   ]
  },
  {
   "cell_type": "code",
   "execution_count": null,
   "metadata": {
    "collapsed": false
   },
   "outputs": [],
   "source": [
    "start_time = datetime.now()\n",
    "\n",
    "# ADFD Dataset\n",
    "!python -u run.py --task_name classification --is_training 1 --root_path ./dataset/ADFD/ --model_id ADFD-Indep-7C --model SpectralFeatures --data ADFD7CIndep --e_layers 6 --batch_size 128 --d_model 128 --d_ff 256 --sampling_rate 256 --des 'Exp' --itr 5 --learning_rate 0.0001 --train_epochs 100 --patience 10\n",
    "\n",
    "# CNBPM Dataset\n",
    "!python -u run.py --task_name classification --is_training 1 --root_path ./dataset/CNBPM/ --model_id CNBPM-Indep-7C --model SpectralFeatures --data CNBPM7CIndep --e_layers 6 --batch_size 128 --d_model 128 --d_ff 256 --sampling_rate 256 --des 'Exp' --itr 5 --learning_rate 0.0001 --train_epochs 100 --patience 10\n",
    "\n",
    "end_time = datetime.now()\n",
    "print(f'Duration: {end_time - start_time}')"
   ]
  },
  {
   "cell_type": "markdown",
   "metadata": {
    "collapsed": false
   },
   "source": [
    "#### PowerFeatures"
   ]
  },
  {
   "cell_type": "code",
   "execution_count": null,
   "metadata": {
    "collapsed": false,
    "pycharm": {
     "is_executing": true
    }
   },
   "outputs": [],
   "source": [
    "start_time = datetime.now()\n",
    "\n",
    "# ADFD Dataset\n",
    "!python -u run.py --task_name classification --is_training 1 --root_path ./dataset/ADFD/ --model_id ADFD-Indep-7C --model PowerFeatures --data ADFD7CIndep --e_layers 6 --batch_size 128 --d_model 128 --d_ff 256 --sampling_rate 256 --des 'Exp' --itr 5 --learning_rate 0.0001 --train_epochs 100 --patience 10\n",
    "\n",
    "# CNBPM Dataset\n",
    "!python -u run.py --task_name classification --is_training 1 --root_path ./dataset/CNBPM/ --model_id CNBPM-Indep-7C --model PowerFeatures --data CNBPM7CIndep --e_layers 6 --batch_size 128 --d_model 128 --d_ff 256 --sampling_rate 256 --des 'Exp' --itr 5 --learning_rate 0.0001 --train_epochs 100 --patience 10\n",
    "\n",
    "end_time = datetime.now()\n",
    "print(f'Duration: {end_time - start_time}')"
   ]
  },
  {
   "cell_type": "markdown",
   "metadata": {
    "collapsed": false
   },
   "source": [
    "#### ComplexityFeatures"
   ]
  },
  {
   "cell_type": "code",
   "execution_count": null,
   "metadata": {
    "collapsed": false
   },
   "outputs": [],
   "source": [
    "start_time = datetime.now()\n",
    "\n",
    "# ADFD Dataset\n",
    "!python -u run.py --task_name classification --is_training 1 --root_path ./dataset/ADFD/ --model_id ADFD-Indep-7C --model ComplexityFeatures --data ADFD7CIndep --e_layers 6 --batch_size 128 --d_model 128 --d_ff 256 --sampling_rate 256 --des 'Exp' --itr 5 --learning_rate 0.0001 --train_epochs 100 --patience 10\n",
    "\n",
    "# CNBPM Dataset\n",
    "!python -u run.py --task_name classification --is_training 1 --root_path ./dataset/CNBPM/ --model_id CNBPM-Indep-7C --model ComplexityFeatures --data CNBPM7CIndep --e_layers 6 --batch_size 128 --d_model 128 --d_ff 256 --sampling_rate 256 --des 'Exp' --itr 5 --learning_rate 0.0001 --train_epochs 100 --patience 10\n",
    "\n",
    "end_time = datetime.now()\n",
    "print(f'Duration: {end_time - start_time}')"
   ]
  },
  {
   "cell_type": "markdown",
   "metadata": {
    "collapsed": false
   },
   "source": [
    "#### ADFormer"
   ]
  },
  {
   "cell_type": "code",
   "execution_count": null,
   "metadata": {
    "collapsed": false
   },
   "outputs": [],
   "source": [
    "\n",
    "# ADFD\n",
    "!python -u run.py --task_name classification --is_training 1 --root_path ./dataset/ADFD/ --model_id ADFD-Indep-7C --model ADformer --data ADFD7CIndep --e_layers 6 --batch_size 128 --d_model 128 --d_ff 256 --patch_len_list 2,2,2,4,4,4 --up_dim_list 19,38,76,152 --augmentations flip1.0,shuffle1.0,frequency0.1,jitter0.4,drop0.4 --swa --des 'Exp' --itr 5 --learning_rate 0.0001 --train_epochs 100 --patience 10\n",
    "\n",
    "# CNBPM\n",
    "!python -u run.py --task_name classification --is_training 1 --root_path ./dataset/CNBPM/ --model_id CNBPM-Indep-7C --model ADformer --data CNBPM7CIndep --e_layers 6 --batch_size 128 --d_model 128 --d_ff 256 --batch_size 128 --d_model 128 --d_ff 256 --patch_len_list 1,1,2,2,2 --up_dim_list 19,38,76,152 --augmentations flip1.0,shuffle1.0,jitter0.4,drop0.4 --swa --des 'Exp' --itr 5 --learning_rate 0.0001 --train_epochs 100 --patience 10"
   ]
  }
 ],
 "metadata": {
  "kernelspec": {
   "display_name": "Python 3",
   "language": "python",
   "name": "python3"
  },
  "language_info": {
   "codemirror_mode": {
    "name": "ipython",
    "version": 3
   },
   "file_extension": ".py",
   "mimetype": "text/x-python",
   "name": "python",
   "nbconvert_exporter": "python",
   "pygments_lexer": "ipython3",
   "version": "3.9.13"
  }
 },
 "nbformat": 4,
 "nbformat_minor": 0
}
